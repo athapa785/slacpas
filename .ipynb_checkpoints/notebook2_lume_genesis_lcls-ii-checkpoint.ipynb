{
 "cells": [
  {
   "cell_type": "markdown",
   "id": "efe9762c-8903-450a-b973-5c7d85e6f05f",
   "metadata": {},
   "source": [
    "# LCLS-II Exercise\n",
    "### ***Special thanks to Irene Wang and Aditya Thapa for the LCLS-II input files!***"
   ]
  },
  {
   "cell_type": "code",
   "execution_count": null,
   "id": "6f36ed75-cb14-40a7-9c6b-7983b21bb34d",
   "metadata": {},
   "outputs": [],
   "source": [
    "from genesis.version4 import Genesis4"
   ]
  },
  {
   "cell_type": "markdown",
   "id": "02789cba-0904-4f64-b28a-aa9c91b7bbf3",
   "metadata": {},
   "source": [
    "## Scanning parameters\n",
    "\n",
    "In the last notebook, we ran a base line LCLS-II simulation.\n",
    "In this notebook, you will scan a parameter and plot how the performance changes."
   ]
  },
  {
   "cell_type": "markdown",
   "id": "bceaaf78-6076-459c-a52e-645c95bdd59c",
   "metadata": {},
   "source": [
    "<div class=\"alert alert-block alert-info\">\n",
    "\n",
    "Using the LCLS-II lattice file, try scanning some of the following:\n",
    "- Peak current\n",
    "- Energy spread\n",
    "- Tapering\n",
    "\n",
    "How does the performance change?\n",
    "<div>"
   ]
  },
  {
   "cell_type": "code",
   "execution_count": null,
   "id": "1947313d-13fe-4bdc-9db4-5a2332b9e6c3",
   "metadata": {},
   "outputs": [],
   "source": [
    "G = Genesis4(\"examples/lcls-II.in\")\n",
    "G.verbose = True\n",
    "G.input"
   ]
  },
  {
   "cell_type": "code",
   "execution_count": null,
   "id": "ca543c6e-bf0f-4462-b8ff-eb95182c81a6",
   "metadata": {},
   "outputs": [],
   "source": [
    "output = G.run()"
   ]
  },
  {
   "cell_type": "code",
   "execution_count": null,
   "id": "4a469831-3df3-4677-a573-c6db2ed3b4aa",
   "metadata": {},
   "outputs": [],
   "source": [
    "G.plot([\"beam_xsize\", \"beam_ysize\", \"field_xsize\", \"field_ysize\"])"
   ]
  },
  {
   "cell_type": "code",
   "execution_count": null,
   "id": "99cebf1b-fd65-4c63-b86c-414dc7772203",
   "metadata": {},
   "outputs": [],
   "source": [
    "G.plot([\"field_power\"])"
   ]
  },
  {
   "cell_type": "markdown",
   "id": "067f38dd-1db1-4327-ab12-22929cb04be8",
   "metadata": {},
   "source": [
    "### Beam and field sizes"
   ]
  },
  {
   "cell_type": "code",
   "execution_count": null,
   "id": "26fd97f5-e517-40ab-90f8-d437e9098bbd",
   "metadata": {},
   "outputs": [],
   "source": [
    "z = output.lattice.zplot\n",
    "b = output.beam.bunching\n",
    "p = output.field.power\n",
    "\n",
    "fig, ax1 = plt.subplots()\n",
    "color = \"tab:red\"\n",
    "ax1.set_xlabel(r\"$z$ (m)\")\n",
    "ax1.set_ylabel(r\"$P$ (W)\", color=color)\n",
    "ax1.tick_params(axis=\"y\", labelcolor=color)\n",
    "ax1.semilogy(z, p, color=color)\n",
    "\n",
    "ax2 = ax1.twinx()\n",
    "color = \"tab:blue\"\n",
    "ax2.set_ylabel(r\"$<\\exp(i\\theta)>$\", color=color)\n",
    "ax2.tick_params(axis=\"y\", labelcolor=color)\n",
    "ax2.semilogy(z, b, color=color, alpha=0.5)\n",
    "ax2.set_ylim([1e-4, 0.6])\n",
    "plt.show()"
   ]
  },
  {
   "cell_type": "code",
   "execution_count": null,
   "id": "c9b966a3-28ba-41c7-9eb6-12e903bb7942",
   "metadata": {},
   "outputs": [],
   "source": []
  }
 ],
 "metadata": {
  "kernelspec": {
   "display_name": "Python 3 (ipykernel)",
   "language": "python",
   "name": "python3"
  },
  "language_info": {
   "codemirror_mode": {
    "name": "ipython",
    "version": 3
   },
   "file_extension": ".py",
   "mimetype": "text/x-python",
   "name": "python",
   "nbconvert_exporter": "python",
   "pygments_lexer": "ipython3",
   "version": "3.12.4"
  }
 },
 "nbformat": 4,
 "nbformat_minor": 5
}
