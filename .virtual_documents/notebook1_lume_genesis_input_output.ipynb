


# from lume-genesis
from genesis.version4 import Genesis4
import matplotlib.pyplot as plt


import numpy as np
import matplotlib.pyplot as plt
import matplotlib.animation as animation








# Lets define our input files
lattice    = 'examples/lcls-II.lat'
input_file = 'examples/lcls-II.in'





# Initialize the run, make genesis object with the LCLSII template input file.
gen = Genesis4(input_file)








# All inputs in Python are fields from the genesis input file.
# If there is no value in the input file template, default values are filled in.
gen.input


gen.initial_particles # empty because no beam is loaded.
# You can supply genesis an initial beam distribution.


dir(gen.input) # list of possible inputs you can change.


gen.output # Output is empty because we have not run a simulation yet.





# list of elements and parameters
# L = length of elements
gen.input.lattice











gen.verbose = True


output = gen.run()


# Configure the runs with changes made above
#dir(gen.configure)





gen.output # gives info about run time and outputs.








# Archive data to h5 so that you can reload it later.
gen.archive('examples/lcls-II_sase.h5')





# Output data can be loaded in a new or saved in gen object
#gen.load_archive('examples/LCLSII_sase.h5')











output.lattice.plot();


#Plotting beam size vs. undulator
gen.plot(["beam_xsize", "beam_ysize"])


# Plot SASE power
power = gen.plot(["field_power"])


# Plot log of power.
power = gen.plot(["field_power"], yscale='log')


gen.plot("field_energy", y2=["field_xsize", "field_ysize"], ylim2=[0, 100e-6])


len(output.load_particles())


output.load_particles()


output.load_particles()
pbeg = output.particles['beginning']
pend = output.particles['end'] 


pbeg.plot("z", "energy", bins=200)


pend.plot("z", "energy", bins=200)


# Beam movie here
# change number of beam steps saved
# re-run simulation
# plot in movie





steps = output.particles.keys


for n in steps.keys[2:]:
    #print(n)
    hold = output.particles[n]
    #data, xedge, yedge, mesh = plt.hist2d(hold.z, hold.energy, bins=200)
    #hold.plot("z", "energy", bins=200)
    #plt.show()
    #print(len(all_data))
    #hold.plot('z', 'energy', bins=200)
    #plt.savefig('hold'+str(n)+'.pdf')


fig, ax = plt.subplots(figsize = (8,8))

#Create 2d Histogram
data,x,y = np.histogram2d(pbeg.z,pbeg.energy, bins = 200)

#Smooth with filter
im = plt.imshow(data.T)#, interpolation = 'gaussian', origin = 'lower')

#Define animation. 
# def animate(i) :
#     X = np.random.randn(100000)
#     Y = np.random.randn(100000) + 5
#     data,x,y = np.histogram2d(X,Y, bins = 15)
#     im.set_data(data)

def animate(i):
    #print(i)
    hold = output.particles[int(i)]
    data, xedge, yedge = np.histogram2d(hold.z, hold.energy, bins=200)
    im.set_data(data.T)


ani = animation.FuncAnimation(fig, animate, np.arange(0,1800,100),
                          interval = 500, blit = False)

ani.save('movie.mp4')



