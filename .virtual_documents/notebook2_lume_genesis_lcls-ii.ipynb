


from genesis.version4 import Genesis4








G = Genesis4("examples/lcls-II.in")
G.verbose = False
#G.input


output = G.run()


output.lattice.plot()


G.plot(["beam_xsize", "beam_ysize", "field_xsize", "field_ysize"])


G.plot(["field_power"])





import matplotlib.pyplot as plt


z = output.lattice.zplot
b = output.beam.bunching
p = output.field.power

fig, ax1 = plt.subplots()
color = "tab:red"
ax1.set_xlabel(r"$z$ (m)")
ax1.set_ylabel(r"$P$ (W)", color=color)
ax1.tick_params(axis="y", labelcolor=color)
ax1.semilogy(z, p, color=color)

ax2 = ax1.twinx()
color = "tab:blue"
ax2.set_ylabel(r"$<\exp(i\theta)>$", color=color)
ax2.tick_params(axis="y", labelcolor=color)
ax2.semilogy(z, b, color=color, alpha=0.5)
ax2.set_ylim([1e-4, 0.6])
plt.show()


import numpy as np


# Scan peak current

G_scan = G
current_list = np.linspace(500, 2000, 5)
scan_output = []

for current in current_list:
    G_scan.input.main.beam.current = current
    G_scan.verbose = False
    scan_output.append(G_scan.run())


import matplotlib.pyplot as plt


fig, ax = plt.subplots()
for k, g in zip(current_list, scan_output):
    x = g.stat("zplot")
    y = g.stat("power")
    ax.plot(x, y / 1e6, label=f"{k:0.1f}")
ax.set_yscale("log")
ax.set_xlabel(r"$z$ (m)")
ax.set_ylabel("power (MW)")
plt.legend(title=r"Peak Current $(A)$")


fig, ax = plt.subplots()
y = np.array([g.stat("power")[-1] for g in scan_output])
ixbest = y.argmax()
Gbest = scan_output[ixbest]
current_best = current_list[ixbest]
ybest = y[ixbest]
ax.plot(current_list, y / 1e6)
ax.scatter(current_best, ybest / 1e6, marker="*", label=rf"$k$= {current_best:0.1f} 1/m$^2$")
ax.set_ylabel(r"end power $(MW)$")
ax.set_xlabel(r"Peak Current $(A)$")
plt.legend()


G_scan.plot("power", yscale="log", y2=["beam_xsize", "beam_ysize"], ylim2=(0, 50e-6))


# No taper

output.load_particles()
pbeg = output.particles['beginning']
pend = output.particles['end']


pend.plot("z", "energy", bins = 200) # No taper








# try some taper

G_taper1 = Genesis4("examples/LCLSII-TAPER1.in")
G_taper1.verbose = True
G_taper1.input


taper1 = G_taper1.run()








taper1.lattice.plot();


G_taper1.plot(["beam_xsize", "beam_ysize", "field_xsize", "field_ysize"])


G_taper1.plot("field_power")


taper1.load_particles()
pbeg1 = taper1.particles['beginning']
pend1 = taper1.particles['end']


pend1.plot("z", "energy", bins=200)


# Scan peak current

G_scan_1 = G_taper1
current_list_1 = np.linspace(500, 3000, 5)
scan_output_1 = []

for current in current_list_1:
    G_scan_1.input.main.beam.current = current
    G_scan_1.verbose = False
    scan_output_1.append(G_scan_1.run())


fig, ax = plt.subplots()
for k, g in zip(current_list_1, scan_output_1):
    x = g.stat("zplot")
    y = g.stat("power")
    ax.plot(x, y / 1e6, label=f"{k:0.1f}")
ax.set_yscale("log")
ax.set_xlabel(r"$z$ (m)")
ax.set_ylabel("power (MW)")
plt.legend(title="Peak Current(A)")


fig, ax = plt.subplots()
y = np.array([g.stat("power")[-1] for g in scan_output_1])
ixbest = y.argmax()
Gbest = scan_output_1[ixbest]
current_best_1 = current_list_1[ixbest]
ybest = y[ixbest]
ax.plot(current_list_1, y / 1e6)
ax.scatter(current_best_1, ybest / 1e6, marker="*", label=rf"$k$= {current_best_1:0.1f} 1/m$^2$")
ax.set_ylabel(r"end power $(MW)$")
ax.set_xlabel(r"Peak Current $(A)$")
plt.legend()





# more agressive taper
G_taper2 = Genesis4("examples/LCLSII-TAPER2.in")
G_taper2.verbose = True
G_taper2.input


taper2 = G_taper1.run()








taper2.lattice.plot();


# Scan peak current

G_scan_2 = G_taper2
current_list_2 = np.linspace(500, 3000, 5)
scan_output_2 = []

for current in current_list_2:
    G_scan_2.input.main.beam.current = current
    G_scan_2.verbose = False
    scan_output_2.append(G_scan_2.run())


fig, ax = plt.subplots()
for k, g in zip(current_list_2, scan_output_2):
    x = g.stat("zplot")
    y = g.stat("power")
    ax.plot(x, y / 1e6, label=f"{k:0.1f}")
ax.set_yscale("log")
ax.set_xlabel(r"$z$ (m)")
ax.set_ylabel("power (MW)")
plt.legend(title=r"Peak Current $(A)$")


fig, ax = plt.subplots()
y = np.array([g.stat("power")[-1] for g in scan_output_2])
ixbest = y.argmax()
Gbest = scan_output_2[ixbest]
current_best_2 = current_list_2[ixbest]
ybest = y[ixbest]
ax.plot(current_list_2, y / 1e6)
ax.scatter(current_best_2, ybest / 1e6, marker="*", label=rf"$k$= {current_best_2:0.1f} 1/m$^2$")
ax.set_ylabel(r"end power $(MW)$")
ax.set_xlabel(r"Peak Current $(A)$")
plt.legend()


G_taper2.plot(["beam_xsize", "beam_ysize", "field_xsize", "field_ysize"])


G_taper2.plot("field_power")


taper2.load_particles()
pbeg2 = taper2.particles['beginning']
pend2 = taper2.particles['end'] 


pbeg2.plot("z", "energy", bins=200)


pend2.plot("z", "energy", bins=200)





no_taper_power = output.stat("power")
taper1_power = taper1.stat("power")
taper2_power = taper2.stat("power")
y_list = [no_taper_power, taper1_power, taper2_power]
label = ["no_taper_power", "taper1_power", "taper2_power"]
x = g.stat("zplot")

fig, ax = plt.subplots()
for i, (y, ylabel) in enumerate(zip(y_list, label)):
    ax.plot(x, y, label=ylabel)
ax.set_yscale("log")
ax.legend()
