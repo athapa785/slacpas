


from genesis.version4 import Genesis4








G = Genesis4("examples/lcls-II.in")
G.verbose = True
G.input


G.input.main.beam.current


G_test = G


G_test.input.main.beam.current = 2000


G_test.input.main.beam.current


output = G.run()


G.plot(["beam_xsize", "beam_ysize", "field_xsize", "field_ysize"])


G.plot(["field_power"])





import matplotlib.pyplot as plt


z = output.lattice.zplot
b = output.beam.bunching
p = output.field.power

fig, ax1 = plt.subplots()
color = "tab:red"
ax1.set_xlabel(r"$z$ (m)")
ax1.set_ylabel(r"$P$ (W)", color=color)
ax1.tick_params(axis="y", labelcolor=color)
ax1.semilogy(z, p, color=color)

ax2 = ax1.twinx()
color = "tab:blue"
ax2.set_ylabel(r"$<\exp(i\theta)>$", color=color)
ax2.tick_params(axis="y", labelcolor=color)
ax2.semilogy(z, b, color=color, alpha=0.5)
ax2.set_ylim([1e-4, 0.6])
plt.show()


import numpy as np


# Scan peak current

G_scan = G
current_list = np.linspace(500, 3000, 5)
scan_output = []

for current in current_list:
    G_scan.input.main.beam.current = current
    G_scan.verbose = False
    scan_output.append(G_scan.run())


import matplotlib.pyplot as plt


fig, ax = plt.subplots()
for k, g in zip(current_list, scan_output):
    x = g.stat("zplot")
    y = g.stat("power")
    ax.plot(x, y / 1e6, label=f"{k:0.1f}")
ax.set_yscale("log")
ax.set_xlabel(r"$z$ (m)")
ax.set_ylabel("power (MW)")
plt.legend(title=r"$k$ (1/m$^2$)")


fig, ax = plt.subplots()
y = np.array([g.stat("power")[-1] for g in scan_output])
ixbest = y.argmax()
Gbest = scan_output[ixbest]
current_best = current_list[ixbest]
ybest = y[ixbest]
ax.plot(current_list, y / 1e6)
ax.scatter(current_best, ybest / 1e6, marker="*", label=rf"$k$= {current_best:0.1f} 1/m$^2$")
ax.set_ylabel(r"end power $(MW)$")
ax.set_xlabel(r"Peak Current $(A)$")
plt.legend()


G_scan.plot("power", yscale="log", y2=["beam_xsize", "beam_ysize"], ylim2=(0, 50e-6))


# try some taper

G_taper1 = Genesis4("examples/lcls-II.in")
G_taper1.verbose = True
G_taper1.input
