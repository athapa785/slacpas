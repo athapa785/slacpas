{
 "cells": [
  {
   "cell_type": "markdown",
   "id": "efe9762c-8903-450a-b973-5c7d85e6f05f",
   "metadata": {},
   "source": [
    "# LCLS-II Exercise\n",
    "### ***Special thanks to Irene Wang and Aditya Thapa for the LCLS-II input files!***"
   ]
  },
  {
   "cell_type": "code",
   "execution_count": 1,
   "id": "6f36ed75-cb14-40a7-9c6b-7983b21bb34d",
   "metadata": {},
   "outputs": [],
   "source": [
    "from genesis.version4 import Genesis4"
   ]
  },
  {
   "cell_type": "markdown",
   "id": "02789cba-0904-4f64-b28a-aa9c91b7bbf3",
   "metadata": {},
   "source": [
    "## Scanning parameters\n",
    "\n",
    "In the last notebook, we ran a base line LCLS-II simulation.\n",
    "In this notebook, you will scan a parameter and plot how the performance changes."
   ]
  },
  {
   "cell_type": "markdown",
   "id": "bceaaf78-6076-459c-a52e-645c95bdd59c",
   "metadata": {},
   "source": [
    "<div class=\"alert alert-block alert-info\">\n",
    "\n",
    "Using the LCLS-II lattice file, try scanning some of the following:\n",
    "- Peak current\n",
    "- Energy spread\n",
    "- Tapering\n",
    "\n",
    "How does the performance change?\n",
    "<div>"
   ]
  },
  {
   "cell_type": "code",
   "execution_count": 2,
   "id": "1947313d-13fe-4bdc-9db4-5a2332b9e6c3",
   "metadata": {},
   "outputs": [],
   "source": [
    "G = Genesis4(\"examples/lcls-II.in\")\n",
    "G.verbose = True\n",
    "#G.input"
   ]
  },
  {
   "cell_type": "code",
   "execution_count": 3,
   "id": "ca543c6e-bf0f-4462-b8ff-eb95182c81a6",
   "metadata": {},
   "outputs": [
    {
     "name": "stdout",
     "output_type": "stream",
     "text": [
      "Configured to run in: /var/folders/qx/dyrxp4cj03l5328wsbdkpz20znqv3p/T/tmphhjf1qj3\n",
      "Running Genesis4 in /var/folders/qx/dyrxp4cj03l5328wsbdkpz20znqv3p/T/tmphhjf1qj3\n",
      "/Users/aaditya/opt/anaconda3/envs/fel2024/bin/genesis4 -l lcls-II.lat genesis4.in\n",
      "---------------------------------------------\n",
      "GENESIS - Version 4.6.6 has started...\n",
      "Compile info: Compiled by runner at 2024-06-10 16:26:41 [UTC] from Git Commit ID: \n",
      "Starting Time: Thu Aug 15 14:42:48 2024\n",
      "\n",
      "MPI-Comm Size: 1 node\n",
      "\n",
      "Opened input file genesis4.in\n",
      "Parsing lattice file lcls-II.lat ...\n",
      "Matching for periodic solution between z = 0 and z = 9 :\n",
      "   betax (m) : 2.94989\n",
      "   alphax    : -0.4868\n",
      "   phix (deg): 87.595\n",
      "   betay (m) : 13.9016\n",
      "   alphay    : 2.17265\n",
      "   phiy (deg): 92.2785\n",
      "Generating input radiation field for HARM = 1 ...\n",
      "Generating input particle distribution...\n",
      "Writing particle distribution to file: beginning.par.h5 ...\n",
      "Writing particle distribution to file: end.par.h5 ...\n",
      "\n",
      "Program is terminating...\n",
      "Ending Time: Thu Aug 15 14:42:48 2024\n",
      "Total Wall Clock Time: 0.049251 seconds\n",
      "-------------------------------------\n",
      "Success - execution took 0.19s.\n"
     ]
    },
    {
     "name": "stderr",
     "output_type": "stream",
     "text": [
      "[PC100405:05402] shmem: mmap: an error occurred while determining whether or not /var/folders/qx/dyrxp4cj03l5328wsbdkpz20znqv3p/T//ompi.PC100405.1062988918/jf.0/1441333248/sm_segment.PC100405.1062988918.55e90000.0 could be created.\n"
     ]
    },
    {
     "ename": "FileNotFoundError",
     "evalue": "[Errno 2] Unable to synchronously open file (unable to open file: name = '/var/folders/qx/dyrxp4cj03l5328wsbdkpz20znqv3p/T/tmphhjf1qj3/lcls-II.out.h5', errno = 2, error message = 'No such file or directory', flags = 0, o_flags = 0)",
     "output_type": "error",
     "traceback": [
      "\u001b[0;31m---------------------------------------------------------------------------\u001b[0m",
      "\u001b[0;31mFileNotFoundError\u001b[0m                         Traceback (most recent call last)",
      "Cell \u001b[0;32mIn[3], line 1\u001b[0m\n\u001b[0;32m----> 1\u001b[0m output \u001b[38;5;241m=\u001b[39m \u001b[43mG\u001b[49m\u001b[38;5;241;43m.\u001b[39;49m\u001b[43mrun\u001b[49m\u001b[43m(\u001b[49m\u001b[43m)\u001b[49m\n",
      "File \u001b[0;32m~/opt/anaconda3/envs/fel2024/lib/python3.12/site-packages/genesis/version4/run.py:384\u001b[0m, in \u001b[0;36mGenesis4.run\u001b[0;34m(self, load_fields, load_particles, smear, raise_on_error)\u001b[0m\n\u001b[1;32m    381\u001b[0m \u001b[38;5;28mself\u001b[39m\u001b[38;5;241m.\u001b[39mvprint(\u001b[38;5;124mf\u001b[39m\u001b[38;5;124m\"\u001b[39m\u001b[38;5;132;01m{\u001b[39;00msuccess_or_failure\u001b[38;5;132;01m}\u001b[39;00m\u001b[38;5;124m - execution took \u001b[39m\u001b[38;5;132;01m{\u001b[39;00mrun_info\u001b[38;5;241m.\u001b[39mrun_time\u001b[38;5;132;01m:\u001b[39;00m\u001b[38;5;124m0.2f\u001b[39m\u001b[38;5;132;01m}\u001b[39;00m\u001b[38;5;124ms.\u001b[39m\u001b[38;5;124m\"\u001b[39m)\n\u001b[1;32m    383\u001b[0m \u001b[38;5;28;01mtry\u001b[39;00m:\n\u001b[0;32m--> 384\u001b[0m     \u001b[38;5;28mself\u001b[39m\u001b[38;5;241m.\u001b[39moutput \u001b[38;5;241m=\u001b[39m \u001b[38;5;28;43mself\u001b[39;49m\u001b[38;5;241;43m.\u001b[39;49m\u001b[43mload_output\u001b[49m\u001b[43m(\u001b[49m\n\u001b[1;32m    385\u001b[0m \u001b[43m        \u001b[49m\u001b[43mload_fields\u001b[49m\u001b[38;5;241;43m=\u001b[39;49m\u001b[43mload_fields\u001b[49m\u001b[43m,\u001b[49m\n\u001b[1;32m    386\u001b[0m \u001b[43m        \u001b[49m\u001b[43mload_particles\u001b[49m\u001b[38;5;241;43m=\u001b[39;49m\u001b[43mload_particles\u001b[49m\u001b[43m,\u001b[49m\n\u001b[1;32m    387\u001b[0m \u001b[43m        \u001b[49m\u001b[43msmear\u001b[49m\u001b[38;5;241;43m=\u001b[39;49m\u001b[43msmear\u001b[49m\u001b[43m,\u001b[49m\n\u001b[1;32m    388\u001b[0m \u001b[43m    \u001b[49m\u001b[43m)\u001b[49m\n\u001b[1;32m    389\u001b[0m \u001b[38;5;28;01mexcept\u001b[39;00m \u001b[38;5;167;01mException\u001b[39;00m \u001b[38;5;28;01mas\u001b[39;00m ex:\n\u001b[1;32m    390\u001b[0m     stack \u001b[38;5;241m=\u001b[39m traceback\u001b[38;5;241m.\u001b[39mformat_exc()\n",
      "File \u001b[0;32m~/opt/anaconda3/envs/fel2024/lib/python3.12/site-packages/genesis/version4/run.py:638\u001b[0m, in \u001b[0;36mGenesis4.load_output\u001b[0;34m(self, load_fields, load_particles, smear)\u001b[0m\n\u001b[1;32m    633\u001b[0m \u001b[38;5;28;01mif\u001b[39;00m \u001b[38;5;28mself\u001b[39m\u001b[38;5;241m.\u001b[39mpath \u001b[38;5;129;01mis\u001b[39;00m \u001b[38;5;28;01mNone\u001b[39;00m:\n\u001b[1;32m    634\u001b[0m     \u001b[38;5;28;01mraise\u001b[39;00m \u001b[38;5;167;01mValueError\u001b[39;00m(\n\u001b[1;32m    635\u001b[0m         \u001b[38;5;124m\"\u001b[39m\u001b[38;5;124mCannot load the output if path is not set. \u001b[39m\u001b[38;5;124m\"\u001b[39m\n\u001b[1;32m    636\u001b[0m         \u001b[38;5;124m\"\u001b[39m\u001b[38;5;124mDid you forget to run `.configure()`?\u001b[39m\u001b[38;5;124m\"\u001b[39m\n\u001b[1;32m    637\u001b[0m     )\n\u001b[0;32m--> 638\u001b[0m \u001b[38;5;28;01mreturn\u001b[39;00m \u001b[43mGenesis4Output\u001b[49m\u001b[38;5;241;43m.\u001b[39;49m\u001b[43mfrom_input_settings\u001b[49m\u001b[43m(\u001b[49m\n\u001b[1;32m    639\u001b[0m \u001b[43m    \u001b[49m\u001b[38;5;28;43minput\u001b[39;49m\u001b[38;5;241;43m=\u001b[39;49m\u001b[38;5;28;43mself\u001b[39;49m\u001b[38;5;241;43m.\u001b[39;49m\u001b[43minput\u001b[49m\u001b[43m,\u001b[49m\n\u001b[1;32m    640\u001b[0m \u001b[43m    \u001b[49m\u001b[43mworkdir\u001b[49m\u001b[38;5;241;43m=\u001b[39;49m\u001b[43mpathlib\u001b[49m\u001b[38;5;241;43m.\u001b[39;49m\u001b[43mPath\u001b[49m\u001b[43m(\u001b[49m\u001b[38;5;28;43mself\u001b[39;49m\u001b[38;5;241;43m.\u001b[39;49m\u001b[43mpath\u001b[49m\u001b[43m)\u001b[49m\u001b[43m,\u001b[49m\n\u001b[1;32m    641\u001b[0m \u001b[43m    \u001b[49m\u001b[43mload_fields\u001b[49m\u001b[38;5;241;43m=\u001b[39;49m\u001b[43mload_fields\u001b[49m\u001b[43m,\u001b[49m\n\u001b[1;32m    642\u001b[0m \u001b[43m    \u001b[49m\u001b[43mload_particles\u001b[49m\u001b[38;5;241;43m=\u001b[39;49m\u001b[43mload_particles\u001b[49m\u001b[43m,\u001b[49m\n\u001b[1;32m    643\u001b[0m \u001b[43m    \u001b[49m\u001b[43msmear\u001b[49m\u001b[38;5;241;43m=\u001b[39;49m\u001b[43msmear\u001b[49m\u001b[43m,\u001b[49m\n\u001b[1;32m    644\u001b[0m \u001b[43m\u001b[49m\u001b[43m)\u001b[49m\n",
      "File \u001b[0;32m~/opt/anaconda3/envs/fel2024/lib/python3.12/site-packages/genesis/version4/output.py:1262\u001b[0m, in \u001b[0;36mGenesis4Output.from_input_settings\u001b[0;34m(cls, input, workdir, load_fields, load_particles, smear)\u001b[0m\n\u001b[1;32m   1243\u001b[0m \u001b[38;5;250m\u001b[39m\u001b[38;5;124;03m\"\"\"\u001b[39;00m\n\u001b[1;32m   1244\u001b[0m \u001b[38;5;124;03mLoad Genesis 4 output based on the configured input settings.\u001b[39;00m\n\u001b[1;32m   1245\u001b[0m \n\u001b[0;32m   (...)\u001b[0m\n\u001b[1;32m   1259\u001b[0m \u001b[38;5;124;03m    The output data.\u001b[39;00m\n\u001b[1;32m   1260\u001b[0m \u001b[38;5;124;03m\"\"\"\u001b[39;00m\n\u001b[1;32m   1261\u001b[0m output_filename \u001b[38;5;241m=\u001b[39m \u001b[38;5;28mcls\u001b[39m\u001b[38;5;241m.\u001b[39mget_output_filename(\u001b[38;5;28minput\u001b[39m, workdir)\n\u001b[0;32m-> 1262\u001b[0m \u001b[38;5;28;01mreturn\u001b[39;00m \u001b[38;5;28;43mcls\u001b[39;49m\u001b[38;5;241;43m.\u001b[39;49m\u001b[43mfrom_files\u001b[49m\u001b[43m(\u001b[49m\n\u001b[1;32m   1263\u001b[0m \u001b[43m    \u001b[49m\u001b[43moutput_filename\u001b[49m\u001b[43m,\u001b[49m\n\u001b[1;32m   1264\u001b[0m \u001b[43m    \u001b[49m\u001b[43mload_fields\u001b[49m\u001b[38;5;241;43m=\u001b[39;49m\u001b[43mload_fields\u001b[49m\u001b[43m,\u001b[49m\n\u001b[1;32m   1265\u001b[0m \u001b[43m    \u001b[49m\u001b[43mload_particles\u001b[49m\u001b[38;5;241;43m=\u001b[39;49m\u001b[43mload_particles\u001b[49m\u001b[43m,\u001b[49m\n\u001b[1;32m   1266\u001b[0m \u001b[43m    \u001b[49m\u001b[43msmear\u001b[49m\u001b[38;5;241;43m=\u001b[39;49m\u001b[43msmear\u001b[49m\u001b[43m,\u001b[49m\n\u001b[1;32m   1267\u001b[0m \u001b[43m\u001b[49m\u001b[43m)\u001b[49m\n",
      "File \u001b[0;32m~/opt/anaconda3/envs/fel2024/lib/python3.12/site-packages/genesis/version4/output.py:1302\u001b[0m, in \u001b[0;36mGenesis4Output.from_files\u001b[0;34m(cls, filename, load_fields, load_particles, smear)\u001b[0m\n\u001b[1;32m   1277\u001b[0m \u001b[38;5;250m\u001b[39m\u001b[38;5;124;03m\"\"\"\u001b[39;00m\n\u001b[1;32m   1278\u001b[0m \u001b[38;5;124;03mLoad Genesis 4 output from the given filename.\u001b[39;00m\n\u001b[1;32m   1279\u001b[0m \n\u001b[0;32m   (...)\u001b[0m\n\u001b[1;32m   1298\u001b[0m \u001b[38;5;124;03m    The output data.\u001b[39;00m\n\u001b[1;32m   1299\u001b[0m \u001b[38;5;124;03m\"\"\"\u001b[39;00m\n\u001b[1;32m   1300\u001b[0m output_root \u001b[38;5;241m=\u001b[39m pathlib\u001b[38;5;241m.\u001b[39mPath(filename)\u001b[38;5;241m.\u001b[39mparent\n\u001b[0;32m-> 1302\u001b[0m \u001b[38;5;28;01mwith\u001b[39;00m \u001b[43mh5py\u001b[49m\u001b[38;5;241;43m.\u001b[39;49m\u001b[43mFile\u001b[49m\u001b[43m(\u001b[49m\u001b[43mfilename\u001b[49m\u001b[43m,\u001b[49m\u001b[43m \u001b[49m\u001b[38;5;124;43m\"\u001b[39;49m\u001b[38;5;124;43mr\u001b[39;49m\u001b[38;5;124;43m\"\u001b[39;49m\u001b[43m)\u001b[49m \u001b[38;5;28;01mas\u001b[39;00m h5:\n\u001b[1;32m   1303\u001b[0m     data \u001b[38;5;241m=\u001b[39m parsers\u001b[38;5;241m.\u001b[39mextract_data(h5)\n\u001b[1;32m   1305\u001b[0m fields \u001b[38;5;241m=\u001b[39m [\n\u001b[1;32m   1306\u001b[0m     LoadableFieldH5File(\n\u001b[1;32m   1307\u001b[0m         key\u001b[38;5;241m=\u001b[39mget_key_from_filename(fn\u001b[38;5;241m.\u001b[39mname),\n\u001b[0;32m   (...)\u001b[0m\n\u001b[1;32m   1310\u001b[0m     \u001b[38;5;28;01mfor\u001b[39;00m fn \u001b[38;5;129;01min\u001b[39;00m output_root\u001b[38;5;241m.\u001b[39mglob(\u001b[38;5;124m\"\u001b[39m\u001b[38;5;124m*.fld.h5\u001b[39m\u001b[38;5;124m\"\u001b[39m)\n\u001b[1;32m   1311\u001b[0m ]\n",
      "File \u001b[0;32m~/opt/anaconda3/envs/fel2024/lib/python3.12/site-packages/h5py/_hl/files.py:562\u001b[0m, in \u001b[0;36mFile.__init__\u001b[0;34m(self, name, mode, driver, libver, userblock_size, swmr, rdcc_nslots, rdcc_nbytes, rdcc_w0, track_order, fs_strategy, fs_persist, fs_threshold, fs_page_size, page_buf_size, min_meta_keep, min_raw_keep, locking, alignment_threshold, alignment_interval, meta_block_size, **kwds)\u001b[0m\n\u001b[1;32m    553\u001b[0m     fapl \u001b[38;5;241m=\u001b[39m make_fapl(driver, libver, rdcc_nslots, rdcc_nbytes, rdcc_w0,\n\u001b[1;32m    554\u001b[0m                      locking, page_buf_size, min_meta_keep, min_raw_keep,\n\u001b[1;32m    555\u001b[0m                      alignment_threshold\u001b[38;5;241m=\u001b[39malignment_threshold,\n\u001b[1;32m    556\u001b[0m                      alignment_interval\u001b[38;5;241m=\u001b[39malignment_interval,\n\u001b[1;32m    557\u001b[0m                      meta_block_size\u001b[38;5;241m=\u001b[39mmeta_block_size,\n\u001b[1;32m    558\u001b[0m                      \u001b[38;5;241m*\u001b[39m\u001b[38;5;241m*\u001b[39mkwds)\n\u001b[1;32m    559\u001b[0m     fcpl \u001b[38;5;241m=\u001b[39m make_fcpl(track_order\u001b[38;5;241m=\u001b[39mtrack_order, fs_strategy\u001b[38;5;241m=\u001b[39mfs_strategy,\n\u001b[1;32m    560\u001b[0m                      fs_persist\u001b[38;5;241m=\u001b[39mfs_persist, fs_threshold\u001b[38;5;241m=\u001b[39mfs_threshold,\n\u001b[1;32m    561\u001b[0m                      fs_page_size\u001b[38;5;241m=\u001b[39mfs_page_size)\n\u001b[0;32m--> 562\u001b[0m     fid \u001b[38;5;241m=\u001b[39m \u001b[43mmake_fid\u001b[49m\u001b[43m(\u001b[49m\u001b[43mname\u001b[49m\u001b[43m,\u001b[49m\u001b[43m \u001b[49m\u001b[43mmode\u001b[49m\u001b[43m,\u001b[49m\u001b[43m \u001b[49m\u001b[43muserblock_size\u001b[49m\u001b[43m,\u001b[49m\u001b[43m \u001b[49m\u001b[43mfapl\u001b[49m\u001b[43m,\u001b[49m\u001b[43m \u001b[49m\u001b[43mfcpl\u001b[49m\u001b[43m,\u001b[49m\u001b[43m \u001b[49m\u001b[43mswmr\u001b[49m\u001b[38;5;241;43m=\u001b[39;49m\u001b[43mswmr\u001b[49m\u001b[43m)\u001b[49m\n\u001b[1;32m    564\u001b[0m \u001b[38;5;28;01mif\u001b[39;00m \u001b[38;5;28misinstance\u001b[39m(libver, \u001b[38;5;28mtuple\u001b[39m):\n\u001b[1;32m    565\u001b[0m     \u001b[38;5;28mself\u001b[39m\u001b[38;5;241m.\u001b[39m_libver \u001b[38;5;241m=\u001b[39m libver\n",
      "File \u001b[0;32m~/opt/anaconda3/envs/fel2024/lib/python3.12/site-packages/h5py/_hl/files.py:235\u001b[0m, in \u001b[0;36mmake_fid\u001b[0;34m(name, mode, userblock_size, fapl, fcpl, swmr)\u001b[0m\n\u001b[1;32m    233\u001b[0m     \u001b[38;5;28;01mif\u001b[39;00m swmr \u001b[38;5;129;01mand\u001b[39;00m swmr_support:\n\u001b[1;32m    234\u001b[0m         flags \u001b[38;5;241m|\u001b[39m\u001b[38;5;241m=\u001b[39m h5f\u001b[38;5;241m.\u001b[39mACC_SWMR_READ\n\u001b[0;32m--> 235\u001b[0m     fid \u001b[38;5;241m=\u001b[39m \u001b[43mh5f\u001b[49m\u001b[38;5;241;43m.\u001b[39;49m\u001b[43mopen\u001b[49m\u001b[43m(\u001b[49m\u001b[43mname\u001b[49m\u001b[43m,\u001b[49m\u001b[43m \u001b[49m\u001b[43mflags\u001b[49m\u001b[43m,\u001b[49m\u001b[43m \u001b[49m\u001b[43mfapl\u001b[49m\u001b[38;5;241;43m=\u001b[39;49m\u001b[43mfapl\u001b[49m\u001b[43m)\u001b[49m\n\u001b[1;32m    236\u001b[0m \u001b[38;5;28;01melif\u001b[39;00m mode \u001b[38;5;241m==\u001b[39m \u001b[38;5;124m'\u001b[39m\u001b[38;5;124mr+\u001b[39m\u001b[38;5;124m'\u001b[39m:\n\u001b[1;32m    237\u001b[0m     fid \u001b[38;5;241m=\u001b[39m h5f\u001b[38;5;241m.\u001b[39mopen(name, h5f\u001b[38;5;241m.\u001b[39mACC_RDWR, fapl\u001b[38;5;241m=\u001b[39mfapl)\n",
      "File \u001b[0;32mh5py/_objects.pyx:54\u001b[0m, in \u001b[0;36mh5py._objects.with_phil.wrapper\u001b[0;34m()\u001b[0m\n",
      "File \u001b[0;32mh5py/_objects.pyx:55\u001b[0m, in \u001b[0;36mh5py._objects.with_phil.wrapper\u001b[0;34m()\u001b[0m\n",
      "File \u001b[0;32mh5py/h5f.pyx:102\u001b[0m, in \u001b[0;36mh5py.h5f.open\u001b[0;34m()\u001b[0m\n",
      "\u001b[0;31mFileNotFoundError\u001b[0m: [Errno 2] Unable to synchronously open file (unable to open file: name = '/var/folders/qx/dyrxp4cj03l5328wsbdkpz20znqv3p/T/tmphhjf1qj3/lcls-II.out.h5', errno = 2, error message = 'No such file or directory', flags = 0, o_flags = 0)",
      "\u001b[0m\nGenesis output was:\n\n---------------------------------------------\nGENESIS - Version 4.6.6 has started...\nCompile info: Compiled by runner at 2024-06-10 16:26:41 [UTC] from Git Commit ID: \nStarting Time: Thu Aug 15 14:42:48 2024\n\nMPI-Comm Size: 1 node\n\nOpened input file genesis4.in\nParsing lattice file lcls-II.lat ...\nMatching for periodic solution between z = 0 and z = 9 :\n   betax (m) : 2.94989\n   alphax    : -0.4868\n   phix (deg): 87.595\n   betay (m) : 13.9016\n   alphay    : 2.17265\n   phiy (deg): 92.2785\nGenerating input radiation field for HARM = 1 ...\nGenerating input particle distribution...\nWriting particle distribution to file: beginning.par.h5 ...\nWriting particle distribution to file: end.par.h5 ...\n\nProgram is terminating...\nEnding Time: Thu Aug 15 14:42:48 2024\nTotal Wall Clock Time: 0.049251 seconds\n-------------------------------------\n\n(End of Genesis output)"
     ]
    }
   ],
   "source": [
    "output = G.run()"
   ]
  },
  {
   "cell_type": "code",
   "execution_count": null,
   "id": "6241482e-37e3-4706-90c3-d118de3228fc",
   "metadata": {},
   "outputs": [],
   "source": [
    "output.lattice.plot()"
   ]
  },
  {
   "cell_type": "code",
   "execution_count": null,
   "id": "4a469831-3df3-4677-a573-c6db2ed3b4aa",
   "metadata": {},
   "outputs": [],
   "source": [
    "G.plot([\"beam_xsize\", \"beam_ysize\", \"field_xsize\", \"field_ysize\"])"
   ]
  },
  {
   "cell_type": "code",
   "execution_count": null,
   "id": "99cebf1b-fd65-4c63-b86c-414dc7772203",
   "metadata": {},
   "outputs": [],
   "source": [
    "G.plot([\"field_power\"], yscale=\"log\")"
   ]
  },
  {
   "cell_type": "markdown",
   "id": "067f38dd-1db1-4327-ab12-22929cb04be8",
   "metadata": {},
   "source": [
    "### Beam and field sizes"
   ]
  },
  {
   "cell_type": "code",
   "execution_count": null,
   "id": "dab424e3-bb0f-4819-b3b9-e27b7a5f9e55",
   "metadata": {},
   "outputs": [],
   "source": [
    "import matplotlib.pyplot as plt"
   ]
  },
  {
   "cell_type": "code",
   "execution_count": null,
   "id": "26fd97f5-e517-40ab-90f8-d437e9098bbd",
   "metadata": {},
   "outputs": [],
   "source": [
    "z = output.lattice.zplot\n",
    "b = output.beam.bunching\n",
    "p = output.field.power\n",
    "\n",
    "fig, ax1 = plt.subplots()\n",
    "color = \"tab:red\"\n",
    "ax1.set_xlabel(r\"$z$ (m)\")\n",
    "ax1.set_ylabel(r\"$P$ (W)\", color=color)\n",
    "ax1.tick_params(axis=\"y\", labelcolor=color)\n",
    "ax1.semilogy(z, p, color=color)\n",
    "\n",
    "ax2 = ax1.twinx()\n",
    "color = \"tab:blue\"\n",
    "ax2.set_ylabel(r\"$<\\exp(i\\theta)>$\", color=color)\n",
    "ax2.tick_params(axis=\"y\", labelcolor=color)\n",
    "ax2.semilogy(z, b, color=color, alpha=0.5)\n",
    "ax2.set_ylim([1e-4, 0.6])\n",
    "plt.show()"
   ]
  },
  {
   "cell_type": "code",
   "execution_count": null,
   "id": "5b12ef87-97a6-4ed2-8293-d0e2b505687f",
   "metadata": {},
   "outputs": [],
   "source": [
    "import numpy as np"
   ]
  },
  {
   "cell_type": "code",
   "execution_count": null,
   "id": "c9b966a3-28ba-41c7-9eb6-12e903bb7942",
   "metadata": {},
   "outputs": [],
   "source": [
    "# Scan peak current\n",
    "\n",
    "G_scan = G\n",
    "current_list = np.linspace(500, 2000, 5)\n",
    "scan_output = []\n",
    "\n",
    "for current in current_list:\n",
    "    G_scan.input.main.beam.current = current\n",
    "    G_scan.verbose = False\n",
    "    scan_output.append(G_scan.run())"
   ]
  },
  {
   "cell_type": "code",
   "execution_count": null,
   "id": "d3571152-2b68-49d8-9408-ee711746a2e4",
   "metadata": {},
   "outputs": [],
   "source": [
    "import matplotlib.pyplot as plt"
   ]
  },
  {
   "cell_type": "code",
   "execution_count": null,
   "id": "a4fedf46-0017-4444-bbcf-09fc9efdf90a",
   "metadata": {},
   "outputs": [],
   "source": [
    "fig, ax = plt.subplots()\n",
    "for k, g in zip(current_list, scan_output):\n",
    "    x = g.stat(\"zplot\")\n",
    "    y = g.stat(\"power\")\n",
    "    ax.plot(x, y / 1e6, label=f\"{k:0.1f}\")\n",
    "ax.set_yscale(\"log\")\n",
    "ax.set_xlabel(r\"$z$ (m)\")\n",
    "ax.set_ylabel(\"power (MW)\")\n",
    "plt.legend(title=r\"Peak Current $(A)$\")"
   ]
  },
  {
   "cell_type": "code",
   "execution_count": null,
   "id": "4729443c-4cbd-48cd-85e2-273ef03883fd",
   "metadata": {},
   "outputs": [],
   "source": [
    "fig, ax = plt.subplots()\n",
    "y = np.array([g.stat(\"power\")[-1] for g in scan_output])\n",
    "ixbest = y.argmax()\n",
    "Gbest = scan_output[ixbest]\n",
    "current_best = current_list[ixbest]\n",
    "ybest = y[ixbest]\n",
    "ax.plot(current_list, y / 1e6)\n",
    "ax.scatter(current_best, ybest / 1e6, marker=\"*\", label=rf\"$k$= {current_best:0.1f} 1/m$^2$\")\n",
    "ax.set_ylabel(r\"end power $(MW)$\")\n",
    "ax.set_xlabel(r\"Peak Current $(A)$\")\n",
    "plt.legend()"
   ]
  },
  {
   "cell_type": "code",
   "execution_count": null,
   "id": "f28c396f-73e3-4d64-aaf2-187c90601d44",
   "metadata": {},
   "outputs": [],
   "source": [
    "G_scan.plot(\"power\", yscale=\"log\", y2=[\"beam_xsize\", \"beam_ysize\"], ylim2=(0, 50e-6))"
   ]
  },
  {
   "cell_type": "code",
   "execution_count": null,
   "id": "9be24b44-aac1-4d63-a28f-4e2bc257b8a0",
   "metadata": {},
   "outputs": [],
   "source": [
    "# No taper\n",
    "\n",
    "output.load_particles()\n",
    "pbeg = output.particles['beginning']\n",
    "pend = output.particles['end']"
   ]
  },
  {
   "cell_type": "code",
   "execution_count": null,
   "id": "b03ee8b3-7a58-4e19-a0fd-35f8d917b571",
   "metadata": {},
   "outputs": [],
   "source": [
    "pend.plot(\"z\", \"energy\", bins = 200) # No taper"
   ]
  },
  {
   "cell_type": "markdown",
   "id": "00c5b58a-d143-4fc2-8d3e-21c4c8300433",
   "metadata": {},
   "source": [
    "# Taper!"
   ]
  },
  {
   "cell_type": "markdown",
   "id": "428330a0-a715-4e0e-9384-844a52a331ff",
   "metadata": {},
   "source": [
    "## Trying linear taper. Not very agressive. Check file **LCLS00-TAPER1.in** for lattice"
   ]
  },
  {
   "cell_type": "code",
   "execution_count": null,
   "id": "d344fd9d-c284-490e-8ab2-8a02ff2a5e94",
   "metadata": {},
   "outputs": [],
   "source": [
    "# try some taper\n",
    "\n",
    "G_taper1 = Genesis4(\"examples/LCLSII-TAPER1.in\")\n",
    "G_taper1.verbose = True\n",
    "G_taper1.input"
   ]
  },
  {
   "cell_type": "code",
   "execution_count": null,
   "id": "28100b40-4e75-45d8-a572-d8269951bcc9",
   "metadata": {},
   "outputs": [],
   "source": [
    "taper1 = G_taper1.run()"
   ]
  },
  {
   "cell_type": "code",
   "execution_count": null,
   "id": "94e5ef4a-3dca-48a1-9e10-0883a05be12e",
   "metadata": {},
   "outputs": [],
   "source": []
  },
  {
   "cell_type": "code",
   "execution_count": null,
   "id": "8a692bcf-b688-4e3a-b2a4-ede186a893fc",
   "metadata": {},
   "outputs": [],
   "source": []
  },
  {
   "cell_type": "code",
   "execution_count": null,
   "id": "8fecf7e3-b521-4782-87eb-3b243e55b16e",
   "metadata": {},
   "outputs": [],
   "source": [
    "taper1.lattice.plot();"
   ]
  },
  {
   "cell_type": "code",
   "execution_count": null,
   "id": "ba54800e-4047-475c-a430-9b1700ac033a",
   "metadata": {},
   "outputs": [],
   "source": [
    "G_taper1.plot([\"beam_xsize\", \"beam_ysize\", \"field_xsize\", \"field_ysize\"])"
   ]
  },
  {
   "cell_type": "code",
   "execution_count": null,
   "id": "af16b7a0-3862-4d02-bf47-7040b723df34",
   "metadata": {},
   "outputs": [],
   "source": [
    "G_taper1.plot(\"field_power\")"
   ]
  },
  {
   "cell_type": "code",
   "execution_count": null,
   "id": "8e0a5c52-7b98-41a8-b039-007533ac3062",
   "metadata": {},
   "outputs": [],
   "source": [
    "taper1.load_particles()\n",
    "pbeg1 = taper1.particles['beginning']\n",
    "pend1 = taper1.particles['end']"
   ]
  },
  {
   "cell_type": "code",
   "execution_count": null,
   "id": "b3953a65-7257-402d-9e7a-f3b6f313e8e6",
   "metadata": {},
   "outputs": [],
   "source": [
    "pend1.plot(\"z\", \"energy\", bins=200)"
   ]
  },
  {
   "cell_type": "code",
   "execution_count": null,
   "id": "033eac57-0788-4ad0-9a4e-986b8996750c",
   "metadata": {},
   "outputs": [],
   "source": [
    "# Scan peak current\n",
    "\n",
    "G_scan_1 = G_taper1\n",
    "current_list_1 = np.linspace(500, 3000, 5)\n",
    "scan_output_1 = []\n",
    "\n",
    "for current in current_list_1:\n",
    "    G_scan_1.input.main.beam.current = current\n",
    "    G_scan_1.verbose = False\n",
    "    scan_output_1.append(G_scan_1.run())"
   ]
  },
  {
   "cell_type": "code",
   "execution_count": null,
   "id": "92de8b9a-1b10-46d0-935f-b942025d9da4",
   "metadata": {},
   "outputs": [],
   "source": [
    "fig, ax = plt.subplots()\n",
    "for k, g in zip(current_list_1, scan_output_1):\n",
    "    x = g.stat(\"zplot\")\n",
    "    y = g.stat(\"power\")\n",
    "    ax.plot(x, y / 1e6, label=f\"{k:0.1f}\")\n",
    "ax.set_yscale(\"log\")\n",
    "ax.set_xlabel(r\"$z$ (m)\")\n",
    "ax.set_ylabel(\"power (MW)\")\n",
    "plt.legend(title=\"Peak Current(A)\")"
   ]
  },
  {
   "cell_type": "code",
   "execution_count": null,
   "id": "8b22778c-41ec-46d7-b0f1-abfb53f520e0",
   "metadata": {},
   "outputs": [],
   "source": [
    "fig, ax = plt.subplots()\n",
    "y = np.array([g.stat(\"power\")[-1] for g in scan_output_1])\n",
    "ixbest = y.argmax()\n",
    "Gbest = scan_output_1[ixbest]\n",
    "current_best_1 = current_list_1[ixbest]\n",
    "ybest = y[ixbest]\n",
    "ax.plot(current_list_1, y / 1e6)\n",
    "ax.scatter(current_best_1, ybest / 1e6, marker=\"*\", label=rf\"$k$= {current_best_1:0.1f} 1/m$^2$\")\n",
    "ax.set_ylabel(r\"end power $(MW)$\")\n",
    "ax.set_xlabel(r\"Peak Current $(A)$\")\n",
    "plt.legend()"
   ]
  },
  {
   "cell_type": "markdown",
   "id": "2afef91d-18e9-4045-9774-af5e7b614a97",
   "metadata": {},
   "source": [
    "## Trying more agressive linear taper. Check file **LCLS00-TAPER2.in** for lattice"
   ]
  },
  {
   "cell_type": "code",
   "execution_count": null,
   "id": "9719de01-0aea-4f1b-9cd0-2da32b5ac147",
   "metadata": {
    "scrolled": true
   },
   "outputs": [],
   "source": [
    "# more agressive taper\n",
    "G_taper2 = Genesis4(\"examples/LCLSII-TAPER2.in\")\n",
    "G_taper2.verbose = True\n",
    "G_taper2.input"
   ]
  },
  {
   "cell_type": "code",
   "execution_count": null,
   "id": "1da8b2c6-8628-44d1-ac9c-a8fe9c15472f",
   "metadata": {},
   "outputs": [],
   "source": [
    "taper2 = G_taper1.run()"
   ]
  },
  {
   "cell_type": "code",
   "execution_count": null,
   "id": "9146bdbc-9024-4098-8072-144e13e6475b",
   "metadata": {},
   "outputs": [],
   "source": []
  },
  {
   "cell_type": "code",
   "execution_count": null,
   "id": "ca80f03f-43ed-420a-911c-428768e8101d",
   "metadata": {},
   "outputs": [],
   "source": []
  },
  {
   "cell_type": "code",
   "execution_count": null,
   "id": "cc6cfd4a-15b9-477d-b658-65a925e9cddf",
   "metadata": {},
   "outputs": [],
   "source": [
    "taper2.lattice.plot();"
   ]
  },
  {
   "cell_type": "code",
   "execution_count": null,
   "id": "e87870e1-c3b1-48b4-85ba-490e5d961342",
   "metadata": {},
   "outputs": [],
   "source": [
    "# Scan peak current\n",
    "\n",
    "G_scan_2 = G_taper2\n",
    "current_list_2 = np.linspace(500, 3000, 5)\n",
    "scan_output_2 = []\n",
    "\n",
    "for current in current_list_2:\n",
    "    G_scan_2.input.main.beam.current = current\n",
    "    G_scan_2.verbose = False\n",
    "    scan_output_2.append(G_scan_2.run())"
   ]
  },
  {
   "cell_type": "code",
   "execution_count": null,
   "id": "be9f126c-1d26-4d30-b70b-a534ae8e3c78",
   "metadata": {},
   "outputs": [],
   "source": [
    "fig, ax = plt.subplots()\n",
    "for k, g in zip(current_list_2, scan_output_2):\n",
    "    x = g.stat(\"zplot\")\n",
    "    y = g.stat(\"power\")\n",
    "    ax.plot(x, y / 1e6, label=f\"{k:0.1f}\")\n",
    "ax.set_yscale(\"log\")\n",
    "ax.set_xlabel(r\"$z$ (m)\")\n",
    "ax.set_ylabel(\"power (MW)\")\n",
    "plt.legend(title=r\"Peak Current $(A)$\")"
   ]
  },
  {
   "cell_type": "code",
   "execution_count": null,
   "id": "a371a273-9773-4aa3-a672-a2db888e7a70",
   "metadata": {},
   "outputs": [],
   "source": [
    "fig, ax = plt.subplots()\n",
    "y = np.array([g.stat(\"power\")[-1] for g in scan_output_2])\n",
    "ixbest = y.argmax()\n",
    "Gbest = scan_output_2[ixbest]\n",
    "current_best_2 = current_list_2[ixbest]\n",
    "ybest = y[ixbest]\n",
    "ax.plot(current_list_2, y / 1e6)\n",
    "ax.scatter(current_best_2, ybest / 1e6, marker=\"*\", label=rf\"$k$= {current_best_2:0.1f} 1/m$^2$\")\n",
    "ax.set_ylabel(r\"end power $(MW)$\")\n",
    "ax.set_xlabel(r\"Peak Current $(A)$\")\n",
    "plt.legend()"
   ]
  },
  {
   "cell_type": "code",
   "execution_count": null,
   "id": "33a1680b-ef5b-407e-9ed2-aba8498b6f19",
   "metadata": {},
   "outputs": [],
   "source": [
    "G_taper2.plot([\"beam_xsize\", \"beam_ysize\", \"field_xsize\", \"field_ysize\"])"
   ]
  },
  {
   "cell_type": "code",
   "execution_count": null,
   "id": "12e14650-8251-48b4-ac5e-ba71dee0c0b1",
   "metadata": {},
   "outputs": [],
   "source": [
    "G_taper2.plot(\"field_power\")"
   ]
  },
  {
   "cell_type": "code",
   "execution_count": null,
   "id": "ad73f88d-7962-4e53-bd29-0aeddc6b414b",
   "metadata": {},
   "outputs": [],
   "source": [
    "taper2.load_particles()\n",
    "pbeg2 = taper2.particles['beginning']\n",
    "pend2 = taper2.particles['end'] "
   ]
  },
  {
   "cell_type": "code",
   "execution_count": null,
   "id": "4b672a95-238f-42ec-8140-980de4cd2093",
   "metadata": {},
   "outputs": [],
   "source": [
    "pbeg2.plot(\"z\", \"energy\", bins=200)"
   ]
  },
  {
   "cell_type": "code",
   "execution_count": null,
   "id": "8ec76e94-763c-4538-a54c-8b1d75854685",
   "metadata": {},
   "outputs": [],
   "source": [
    "pend2.plot(\"z\", \"energy\", bins=200)"
   ]
  },
  {
   "cell_type": "markdown",
   "id": "5b505fb9-a9a9-499b-bb7b-85d72991c23c",
   "metadata": {},
   "source": [
    "# Summary (Taper)"
   ]
  },
  {
   "cell_type": "code",
   "execution_count": null,
   "id": "3fb87747-29ca-42dd-aabc-033fdd27cdbc",
   "metadata": {},
   "outputs": [],
   "source": [
    "no_taper_power = output.stat(\"power\")\n",
    "taper1_power = taper1.stat(\"power\")\n",
    "taper2_power = taper2.stat(\"power\")\n",
    "y_list = [no_taper_power, taper1_power, taper2_power]\n",
    "label = [\"no_taper_power\", \"taper1_power\", \"taper2_power\"]\n",
    "x = g.stat(\"zplot\")\n",
    "\n",
    "fig, ax = plt.subplots()\n",
    "for i, (y, ylabel) in enumerate(zip(y_list, label)):\n",
    "    ax.plot(x, y, label=ylabel)\n",
    "ax.set_yscale(\"log\")\n",
    "ax.legend()"
   ]
  },
  {
   "cell_type": "markdown",
   "id": "1e4c24e1-36f8-44ed-aad0-cd233e3ac1db",
   "metadata": {},
   "source": [
    "# Energy spread"
   ]
  },
  {
   "cell_type": "markdown",
   "id": "07c62eba-33d2-4bf3-a4da-529b52a24f55",
   "metadata": {},
   "source": [
    "## Scanning through various values of delgam. \n",
    "\n",
    "delgam = 1 corresponds to rms energy spread of 0.511 MeV"
   ]
  },
  {
   "cell_type": "code",
   "execution_count": null,
   "id": "7c35d5dc-fdd9-48ee-9023-d88277e56427",
   "metadata": {},
   "outputs": [],
   "source": [
    "# Scan energy spread (delgam)\n",
    "\n",
    "G_scan = G\n",
    "delgam_list = np.linspace(0, 5, 5)     #delgam = 1 is rms energy spreak of 0.511 MeV\n",
    "scan_output_delgam = []\n",
    "\n",
    "for delgam in delgam_list:\n",
    "    G_scan.input.main.beam.delgam = delgam\n",
    "    G_scan.verbose = False\n",
    "    scan_output_delgam.append(G_scan.run())"
   ]
  },
  {
   "cell_type": "code",
   "execution_count": null,
   "id": "22c82394-0523-4f81-a325-4566564e3c9f",
   "metadata": {},
   "outputs": [],
   "source": [
    "fig, ax = plt.subplots()\n",
    "for k, g in zip(delgam_list, scan_output_delgam):\n",
    "    x = g.stat(\"zplot\")\n",
    "    y = g.stat(\"power\")\n",
    "    ax.plot(x, y, label=f\"{k*0.511:0.1f}MeV\")\n",
    "ax.set_yscale(\"log\")\n",
    "ax.set_xlabel(r\"$z$ (m)\")\n",
    "ax.set_ylabel(\"power (MW)\")\n",
    "plt.legend(title=r\"Energy Spread\")"
   ]
  },
  {
   "cell_type": "code",
   "execution_count": null,
   "id": "f8c6192c-3b34-444c-aaf4-2d52cc9806ae",
   "metadata": {},
   "outputs": [],
   "source": [
    "fig, ax = plt.subplots()\n",
    "y = np.array([g.stat(\"power\")[-1] for g in scan_output_delgam])\n",
    "ixbest = y.argmax()\n",
    "Gbest = scan_output_delgam[ixbest]\n",
    "delgam_best = delgam_list[ixbest]\n",
    "ybest = y[ixbest]\n",
    "ax.plot(delgam_list, y / 1e6)\n",
    "ax.scatter(delgam_best, ybest / 1e6, marker=\"*\", label=rf\"{delgam_best*0.511:0.1f} MeV\")\n",
    "ax.set_ylabel(r\"end power $(MW)$\")\n",
    "ax.set_xlabel(r\"Energy Spread\")\n",
    "plt.legend()"
   ]
  },
  {
   "cell_type": "code",
   "execution_count": null,
   "id": "da3d99b0-83ba-439f-b255-37c14f54ec10",
   "metadata": {},
   "outputs": [],
   "source": [
    "scan_output_delgam[0].load_particles()\n",
    "pbeg_d = scan_output_delgam[0].particles['beginning']\n",
    "pend_d = scan_output_delgam[0].particles['end']\n",
    "pend_d.plot(\"z\", \"energy\", bins=200)"
   ]
  },
  {
   "cell_type": "markdown",
   "id": "197625c3-5aaf-4c5a-9a2f-3aa0075ba438",
   "metadata": {},
   "source": [
    "# Long Undulator"
   ]
  },
  {
   "cell_type": "code",
   "execution_count": null,
   "id": "35e1bfbe-61cb-4133-9b45-a8abccf8a556",
   "metadata": {},
   "outputs": [],
   "source": [
    "G_long = Genesis4(\"examples/lcls-II-long.in\")\n",
    "G_long.verbose = True"
   ]
  },
  {
   "cell_type": "code",
   "execution_count": null,
   "id": "93fa11e1-0716-4754-b367-b54c0129fa73",
   "metadata": {},
   "outputs": [],
   "source": [
    "output_long = G_long.run()"
   ]
  },
  {
   "cell_type": "code",
   "execution_count": null,
   "id": "2ac2bef6-bb2b-4955-9b6e-a97128956fa9",
   "metadata": {},
   "outputs": [],
   "source": [
    "output_long.plot(\"power\", yscale=\"log\")"
   ]
  },
  {
   "cell_type": "code",
   "execution_count": null,
   "id": "2fb42648-1763-4206-ac41-4aa3eb05467a",
   "metadata": {},
   "outputs": [],
   "source": [
    "output.plot(\"power\", yscale=\"log\")"
   ]
  },
  {
   "cell_type": "code",
   "execution_count": null,
   "id": "fced092f-47ad-4f53-a812-095a08d81ddc",
   "metadata": {},
   "outputs": [],
   "source": []
  }
 ],
 "metadata": {
  "kernelspec": {
   "display_name": "Python 3 (ipykernel)",
   "language": "python",
   "name": "python3"
  },
  "language_info": {
   "codemirror_mode": {
    "name": "ipython",
    "version": 3
   },
   "file_extension": ".py",
   "mimetype": "text/x-python",
   "name": "python",
   "nbconvert_exporter": "python",
   "pygments_lexer": "ipython3",
   "version": "3.12.4"
  }
 },
 "nbformat": 4,
 "nbformat_minor": 5
}
