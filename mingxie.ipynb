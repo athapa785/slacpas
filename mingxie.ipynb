{
 "cells": [
  {
   "cell_type": "markdown",
   "id": "b78883b4-3746-4d6d-bacb-b5b14920174c",
   "metadata": {},
   "source": [
    "# Ming Xie Parameterization"
   ]
  },
  {
   "cell_type": "code",
   "execution_count": 1,
   "id": "d7cff4ea-9e20-4e1a-9370-19d015613103",
   "metadata": {},
   "outputs": [],
   "source": [
    "from zfel.mingxie import mingxie"
   ]
  },
  {
   "cell_type": "code",
   "execution_count": 2,
   "id": "70953f3b-cf6a-42a4-965e-479fab4f6515",
   "metadata": {},
   "outputs": [
    {
     "name": "stdout",
     "output_type": "stream",
     "text": [
      "Help on function mingxie in module zfel.mingxie:\n",
      "\n",
      "mingxie(sigma_x=None, und_lambda=None, und_k=None, current=None, gamma=None, norm_emit=None, sigma_E=None)\n",
      "    Calculates gain length using the Ming Xie formula.\n",
      "\n",
      "    Design Optimization for an X-ray Free Elecgron Laser Driven by SLAC Linac\n",
      "    Ming Xie, Lawrence Berkeley Laboratory, Berkeley, CA 94720, USA\n",
      "    http://accelconf.web.cern.ch/AccelConf/p95/ARTICLES/TPG/TPG10.PDF\n",
      "\n",
      "    Inputs keyword arguments:\n",
      "        sigma_x      # RMS beam size\n",
      "        und_lambda   # Undulator period (m)\n",
      "        und_k        # Undulator K\n",
      "        current      # Beam current (A)\n",
      "        gamma        # Relativistic gamma\n",
      "        norm_emit    # Normalized emittance (m-rad)\n",
      "        sigma_E      # RMS energy spread (eV)\n",
      "\n",
      "\n",
      "    Output as dict:\n",
      "        gain_length        # Gain length (m)\n",
      "        saturation_length  # Saturation length (m)\n",
      "        saturation_power   # Saturation power (W)\n",
      "        fel_wavelength     # FEL wavelength (m)\n",
      "        pierce_parameter   # Pierce parameter (rho)\n",
      "\n"
     ]
    }
   ],
   "source": [
    "# Function signature\n",
    "help(mingxie)"
   ]
  },
  {
   "cell_type": "code",
   "execution_count": 3,
   "id": "2b131a7d-a9a8-4ab8-b750-df69277b2925",
   "metadata": {},
   "outputs": [
    {
     "data": {
      "text/plain": [
       "{'gain_length': np.float64(2.695863253435306),\n",
       " 'saturation_length': np.float64(50.39852990185719),\n",
       " 'saturation_power': np.float64(27079679181.51856),\n",
       " 'fel_wavelength': 1.5505027073674636e-10,\n",
       " 'pierce_parameter': np.float64(0.0006522729641195412)}"
      ]
     },
     "execution_count": 3,
     "metadata": {},
     "output_type": "execute_result"
    }
   ],
   "source": [
    "# Some test parameters\n",
    "test_params = {    \n",
    "    'sigma_x':18e-6,\n",
    "    'und_lambda':0.03,\n",
    "    'und_k':3.7,\n",
    "    'current':3000.,\n",
    "    'gamma':27549,\n",
    "    'norm_emit':0.4e-6,\n",
    "    'sigma_E':3e6}\n",
    "\n",
    "\n",
    "mingxie(**test_params) "
   ]
  },
  {
   "cell_type": "markdown",
   "id": "1d9b54ed-9ba1-4d75-ab0b-f22f4eadaaf9",
   "metadata": {},
   "source": [
    "# Exercises"
   ]
  },
  {
   "cell_type": "markdown",
   "id": "070a7c70-4bd2-44eb-9043-227e382dfeaf",
   "metadata": {},
   "source": [
    "## Contour Plots\n",
    "\n",
    "<div class=\"alert alert-block alert-info\">\n",
    "    \n",
    "**Excercise 1:**\n",
    "\n",
    "Make contour plot all outputs as a function of emittance and energy spread.\n",
    "        \n",
    "</div>"
   ]
  },
  {
   "cell_type": "markdown",
   "id": "9f824630-0702-49df-b11e-00583b3d131f",
   "metadata": {},
   "source": [
    "## Realistic emittance scaling\n",
    "\n",
    "<div class=\"alert alert-block alert-info\">\n",
    "    \n",
    "**Excercise 2:**\n",
    "\n",
    "Include emittance as a function of bunch charge assuming normalized emittance $\\epsilon_{n, x}$ scaling as a function of bunch charge $Q$:\n",
    "\n",
    "$\\epsilon_{n, x} \\approxeq 0.6~\\text{mm-mrad}  \\left(\\frac{Q}{100~\\text{pC}}\\right)^{2/3}$ \n",
    "\n",
    "See [D. Filippetto, P. Musumeci, M. Zolotorev, and G. Stupakov\n",
    "Phys. Rev. ST Accel. Beams 17, 024201 – Published 18 February 2014](https://journals.aps.org/prab/pdf/10.1103/PhysRevSTAB.17.024201) for an explaination of this scaling.\n",
    "        \n",
    "</div>\n",
    "\n"
   ]
  },
  {
   "cell_type": "code",
   "execution_count": null,
   "id": "6c9b12ea-d6ed-485b-93e2-14ea9ba6112d",
   "metadata": {},
   "outputs": [],
   "source": []
  }
 ],
 "metadata": {
  "kernelspec": {
   "display_name": "Python 3 (ipykernel)",
   "language": "python",
   "name": "python3"
  },
  "language_info": {
   "codemirror_mode": {
    "name": "ipython",
    "version": 3
   },
   "file_extension": ".py",
   "mimetype": "text/x-python",
   "name": "python",
   "nbconvert_exporter": "python",
   "pygments_lexer": "ipython3",
   "version": "3.12.4"
  }
 },
 "nbformat": 4,
 "nbformat_minor": 5
}
